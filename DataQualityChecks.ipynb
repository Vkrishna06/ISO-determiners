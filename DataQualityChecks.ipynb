{
 "cells": [
  {
   "cell_type": "code",
   "execution_count": 4,
   "id": "6e2fc122-3f55-4512-8462-35d370a2417c",
   "metadata": {},
   "outputs": [],
   "source": [
    "import pandas as pd"
   ]
  },
  {
   "cell_type": "code",
   "execution_count": 7,
   "id": "fec75081-1f3d-4274-8875-3840d7996006",
   "metadata": {},
   "outputs": [],
   "source": [
    "file_path = r\"C:\\Users\\Uday\\Downloads\\Integrated Data and Evidence Collection (Working Copy) v3-31.xlsx\"\n",
    "sheet_name = \"Company Reference\""
   ]
  },
  {
   "cell_type": "code",
   "execution_count": null,
   "id": "583b1a3d",
   "metadata": {},
   "outputs": [],
   "source": [
    "# Integrated Data and Evidence Collecetion- Data Files "
   ]
  },
  {
   "cell_type": "code",
   "execution_count": 9,
   "id": "b604c687-2004-4fa3-84a7-e9cf4130e6bf",
   "metadata": {},
   "outputs": [],
   "source": [
    "df = pd.read_excel(file_path, sheet_name=sheet_name)"
   ]
  },
  {
   "cell_type": "code",
   "execution_count": null,
   "id": "f85bc2a6-65ea-4511-8953-498347eda913",
   "metadata": {},
   "outputs": [
    {
     "data": {
      "text/plain": [
       "{'Total Rows': 2905,\n",
       " 'Total Columns': 39,\n",
       " 'Missing Values Per Column': Company_ID                                                                                    0\n",
       " Consolidated_Name                                                                             1\n",
       " Consolidation Code  / Duplicate?                                                           2373\n",
       " Company_Name                                                                                  1\n",
       " Chinese Name                                                                               2867\n",
       " Team # for Evidence Tracking                                                                  0\n",
       " Team + Company Name (For Reconcilation)                                                       0\n",
       " Active/Inactive                                                                            2747\n",
       " Weighting Tags                                                                             2866\n",
       " Weighting Category                                                                         2851\n",
       " Special Alert\\n- M/A=Flagged by Matt/Andy\\n- Tn = Flagged by Team & your #, T1 = Team1)    2784\n",
       " Company Evidence Count                                                                      263\n",
       " Company Evidence Weight                                                                     263\n",
       " Flagged by Matt / Andy                                                                        0\n",
       " Sanctioned Company List                                                                       0\n",
       " On Leads List                                                                                 0\n",
       " Special Alert                                                                                18\n",
       " Total Company Weight                                                                         18\n",
       " Data Source ID                                                                             2617\n",
       " Tracking Name                                                                              2616\n",
       " Source Name from Evidence                                                                   254\n",
       " Original Company_ID                                                                        2652\n",
       " Team who logged it                                                                         2623\n",
       " When was it Logged                                                                         2887\n",
       " Trace file from Team                                                                       2866\n",
       " Business Type                                                                              2522\n",
       " POC                                                                                        2580\n",
       " Company Website                                                                            2904\n",
       " Manufacturer?                                                                              2877\n",
       " 1st 20 same                                                                                   0\n",
       " Othe Info                                                                                  2900\n",
       " Deep Dive                                                                                  2857\n",
       " Top Company                                                                                2857\n",
       " Priority Band                                                                              2857\n",
       " Consolidated Set #                                                                         2857\n",
       " Team Assignment for Deep Dive                                                              2857\n",
       " PRC Home Base?                                                                             2857\n",
       " Publicly Traded?                                                                           2857\n",
       " Gort Complicity?                                                                           2857\n",
       " dtype: int64,\n",
       " 'Percentage of Missing Values': Company_ID                                                                                  0.000000\n",
       " Consolidated_Name                                                                           0.034423\n",
       " Consolidation Code  / Duplicate?                                                           81.686747\n",
       " Company_Name                                                                                0.034423\n",
       " Chinese Name                                                                               98.691910\n",
       " Team # for Evidence Tracking                                                                0.000000\n",
       " Team + Company Name (For Reconcilation)                                                     0.000000\n",
       " Active/Inactive                                                                            94.561102\n",
       " Weighting Tags                                                                             98.657487\n",
       " Weighting Category                                                                         98.141136\n",
       " Special Alert\\n- M/A=Flagged by Matt/Andy\\n- Tn = Flagged by Team & your #, T1 = Team1)    95.834768\n",
       " Company Evidence Count                                                                      9.053356\n",
       " Company Evidence Weight                                                                     9.053356\n",
       " Flagged by Matt / Andy                                                                      0.000000\n",
       " Sanctioned Company List                                                                     0.000000\n",
       " On Leads List                                                                               0.000000\n",
       " Special Alert                                                                               0.619621\n",
       " Total Company Weight                                                                        0.619621\n",
       " Data Source ID                                                                             90.086059\n",
       " Tracking Name                                                                              90.051635\n",
       " Source Name from Evidence                                                                   8.743546\n",
       " Original Company_ID                                                                        91.290878\n",
       " Team who logged it                                                                         90.292599\n",
       " When was it Logged                                                                         99.380379\n",
       " Trace file from Team                                                                       98.657487\n",
       " Business Type                                                                              86.815835\n",
       " POC                                                                                        88.812392\n",
       " Company Website                                                                            99.965577\n",
       " Manufacturer?                                                                              99.036145\n",
       " 1st 20 same                                                                                 0.000000\n",
       " Othe Info                                                                                  99.827883\n",
       " Deep Dive                                                                                  98.347676\n",
       " Top Company                                                                                98.347676\n",
       " Priority Band                                                                              98.347676\n",
       " Consolidated Set #                                                                         98.347676\n",
       " Team Assignment for Deep Dive                                                              98.347676\n",
       " PRC Home Base?                                                                             98.347676\n",
       " Publicly Traded?                                                                           98.347676\n",
       " Gort Complicity?                                                                           98.347676\n",
       " dtype: float64,\n",
       " 'Duplicate Rows': 0,\n",
       " 'Empty Rows': 0,\n",
       " 'Empty Columns': 0}"
      ]
     },
     "execution_count": 10,
     "metadata": {},
     "output_type": "execute_result"
    }
   ],
   "source": [
    "# complete data report\n",
    "completeness_report = {\n",
    "    \"Total Rows\": len(df),\n",
    "    \"Total Columns\": len(df.columns),\n",
    "    \"Missing Values Per Column\": df.isnull().sum(),\n",
    "    \"Percentage of Missing Values\": (df.isnull().sum() / len(df)) * 100,\n",
    "    \"Duplicate Rows\": df.duplicated().sum(),\n",
    "    \"Empty Rows\": (df.isnull().all(axis=1)).sum(),\n",
    "    \"Empty Columns\": (df.isnull().all(axis=0)).sum()\n",
    "}\n",
    "completeness_report"
   ]
  },
  {
   "cell_type": "code",
   "execution_count": 11,
   "id": "d4e5a6ed-3b55-4407-a397-be5a63ea52f5",
   "metadata": {},
   "outputs": [],
   "source": [
    "# listing required columns for determiners \n",
    "columns_to_check = [\n",
    "    \"Company Evidence Count\",\n",
    "    \"Company Evidence Weight\",\n",
    "    \"Flagged by Matt / Andy\",\n",
    "    \"Sanctioned Company List\",\n",
    "    \"On Leads List\",\n",
    "    \"Special Alert\"\n",
    "]"
   ]
  },
  {
   "cell_type": "code",
   "execution_count": 12,
   "id": "11e2368d-ae9a-4514-a6d8-833be7177a7d",
   "metadata": {},
   "outputs": [],
   "source": [
    "df_subset = df[columns_to_check]"
   ]
  },
  {
   "cell_type": "code",
   "execution_count": 13,
   "id": "22dedd33-e597-4716-b3e7-ad2498c6435f",
   "metadata": {},
   "outputs": [],
   "source": [
    "completeness = df_subset.isnull().sum()\n"
   ]
  },
  {
   "cell_type": "code",
   "execution_count": 18,
   "id": "90b54580-d216-4966-8f4d-5a3cb186765d",
   "metadata": {},
   "outputs": [
    {
     "name": "stdout",
     "output_type": "stream",
     "text": [
      "completeness of required columns:\n",
      " Company Evidence Count     263\n",
      "Company Evidence Weight    263\n",
      "Flagged by Matt / Andy       0\n",
      "Sanctioned Company List      0\n",
      "On Leads List                0\n",
      "Special Alert               18\n",
      "dtype: int64\n"
     ]
    }
   ],
   "source": [
    "print(\"completeness of required columns:\\n\",completeness)"
   ]
  },
  {
   "cell_type": "code",
   "execution_count": 20,
   "id": "5103641f-4c69-48b5-bcd8-7bdd1667d009",
   "metadata": {},
   "outputs": [],
   "source": [
    "unique_values = {\n",
    "    \"Flagged by Matt / Andy\": df[\"Flagged by Matt / Andy\"].unique(),\n",
    "    \"Sanctioned Company List\": df[\"Sanctioned Company List\"].unique(),\n",
    "    \"On Leads List\": df[\"On Leads List\"].unique(),\n",
    "    \"Special Alert\": df[\"Special Alert\"].unique(),\n",
    "}"
   ]
  },
  {
   "cell_type": "code",
   "execution_count": 26,
   "id": "ebbb46d8-2d74-42cc-bda1-a45f47463efd",
   "metadata": {},
   "outputs": [
    {
     "name": "stdout",
     "output_type": "stream",
     "text": [
      "unique values for N,O,P,Q columns:\n",
      " {'Flagged by Matt / Andy': array([0, '`', 350], dtype=object), 'Sanctioned Company List': array([  0, 150], dtype=int64), 'On Leads List': array([ 0, 10], dtype=int64), 'Special Alert': array([500.,   0.,  nan, 100.])}\n"
     ]
    }
   ],
   "source": [
    "print(\"unique values for N,O,P,Q columns:\\n\",unique_values)\n"
   ]
  },
  {
   "cell_type": "code",
   "execution_count": 27,
   "id": "1361ee8f-0fff-44e9-bb7d-d1333fb2ab2a",
   "metadata": {},
   "outputs": [],
   "source": [
    "columns_to_check = [\"Company Evidence Count\", \"Company Evidence Weight\"]"
   ]
  },
  {
   "cell_type": "code",
   "execution_count": 29,
   "id": "6afde429-ba42-4c82-bf44-93aa611d7a27",
   "metadata": {},
   "outputs": [
    {
     "name": "stdout",
     "output_type": "stream",
     "text": [
      "Number of unique values in company evidence count and company evidence weight:\n",
      "  {'Company Evidence Count': 153, 'Company Evidence Weight': 574}\n"
     ]
    }
   ],
   "source": [
    "unique_counts = {col: df[col].nunique() for col in columns_to_check}\n",
    "print(\"Number of unique values in company evidence count and company evidence weight:\\n \",unique_counts)"
   ]
  },
  {
   "cell_type": "code",
   "execution_count": null,
   "id": "1c4790d8-4dcf-4e15-9cd1-e11189c31fc1",
   "metadata": {},
   "outputs": [
    {
     "name": "stdout",
     "output_type": "stream",
     "text": [
      "values range in company evidence count and company evidence weight:\n",
      "  {'Column': ['Company Evidence Count', 'Company Evidence Weight'], 'Minimum Value': [1.0, 0.0], 'Maximum Value': [831.0, 68139.0]}\n"
     ]
    }
   ],
   "source": [
    "min_max_values = {\n",
    "    \"Column\": columns_to_check,\n",
    "    \"Minimum Value\": [df[col].min() for col in columns_to_check],\n",
    "    \"Maximum Value\": [df[col].max() for col in columns_to_check]\n",
    "}\n",
    "\n",
    "print(\"values range in company evidence count and company evidence weight:\\n \",min_max_values)"
   ]
  },
  {
   "cell_type": "code",
   "execution_count": 32,
   "id": "eee1b3c8-9111-4e7c-8ac3-c1ea9c9faa11",
   "metadata": {},
   "outputs": [],
   "source": [
    "file_path = r\"C:\\Users\\Uday\\Downloads\\Fentanyl_Precurors_Expanded.xlsx\"\n",
    "sheet_name=\"Sheet1\""
   ]
  },
  {
   "cell_type": "code",
   "execution_count": 33,
   "id": "2cfa4e72",
   "metadata": {},
   "outputs": [],
   "source": [
    "# Fentanyl Precursors Expanded - Data file"
   ]
  },
  {
   "cell_type": "code",
   "execution_count": 34,
   "id": "38674a8e-df41-46e2-a2cc-47896de1159c",
   "metadata": {},
   "outputs": [],
   "source": [
    "df = pd.read_excel(file_path, sheet_name=sheet_name)"
   ]
  },
  {
   "cell_type": "code",
   "execution_count": 37,
   "id": "18d12126-6f6f-4fd8-81b4-550f0eb7979c",
   "metadata": {},
   "outputs": [
    {
     "name": "stdout",
     "output_type": "stream",
     "text": [
      "completeness report: \n",
      " {'Total Rows': 4081, 'Total Columns': 5, 'Missing Values Per Column': CAS_Registry_Number    0\n",
      "Weight                 0\n",
      "Category               0\n",
      "Substance              0\n",
      "Synonyms               9\n",
      "dtype: int64, 'Percentage of Missing Values': CAS_Registry_Number    0.000000\n",
      "Weight                 0.000000\n",
      "Category               0.000000\n",
      "Substance              0.000000\n",
      "Synonyms               0.220534\n",
      "dtype: float64, 'Duplicate Rows': 70, 'Empty Rows': 0, 'Empty Columns': 0}\n"
     ]
    }
   ],
   "source": [
    "completeness_report = {\n",
    "    \"Total Rows\": len(df),\n",
    "    \"Total Columns\": len(df.columns),\n",
    "    \"Missing Values Per Column\": df.isnull().sum(),\n",
    "    \"Percentage of Missing Values\": (df.isnull().sum() / len(df)) * 100,\n",
    "    \"Duplicate Rows\": df.duplicated().sum(),\n",
    "    \"Empty Rows\": (df.isnull().all(axis=1)).sum(),\n",
    "    \"Empty Columns\": (df.isnull().all(axis=0)).sum()\n",
    "}\n",
    "print(\"completeness report: \\n\",completeness_report)"
   ]
  },
  {
   "cell_type": "code",
   "execution_count": 41,
   "id": "0f6f1036-d69e-47e1-8437-c09964995a2e",
   "metadata": {},
   "outputs": [
    {
     "name": "stdout",
     "output_type": "stream",
     "text": [
      "count of missing values:\n",
      " CAS_Registry_Number    0\n",
      "Weight                 0\n",
      "Category               0\n",
      "Substance              0\n",
      "Synonyms               9\n",
      "dtype: int64\n"
     ]
    }
   ],
   "source": [
    "missing_values = df.isnull().sum()\n",
    "print(\"count of missing values:\\n\",missing_values)"
   ]
  },
  {
   "cell_type": "code",
   "execution_count": 42,
   "id": "abacb8be-c184-454c-85a7-12d73b458eba",
   "metadata": {},
   "outputs": [
    {
     "name": "stdout",
     "output_type": "stream",
     "text": [
      "Duplicate Rows: \n"
     ]
    },
    {
     "data": {
      "text/html": [
       "<div>\n",
       "<style scoped>\n",
       "    .dataframe tbody tr th:only-of-type {\n",
       "        vertical-align: middle;\n",
       "    }\n",
       "\n",
       "    .dataframe tbody tr th {\n",
       "        vertical-align: top;\n",
       "    }\n",
       "\n",
       "    .dataframe thead th {\n",
       "        text-align: right;\n",
       "    }\n",
       "</style>\n",
       "<table border=\"1\" class=\"dataframe\">\n",
       "  <thead>\n",
       "    <tr style=\"text-align: right;\">\n",
       "      <th></th>\n",
       "      <th>CAS_Registry_Number</th>\n",
       "      <th>Weight</th>\n",
       "      <th>Category</th>\n",
       "      <th>Substance</th>\n",
       "      <th>Synonyms</th>\n",
       "    </tr>\n",
       "  </thead>\n",
       "  <tbody>\n",
       "    <tr>\n",
       "      <th>1097</th>\n",
       "      <td>87151-85-7</td>\n",
       "      <td>10</td>\n",
       "      <td>Other_U-Series</td>\n",
       "      <td>U-62066 (Spiradoline)</td>\n",
       "      <td>methanesulfonic acid</td>\n",
       "    </tr>\n",
       "    <tr>\n",
       "      <th>1153</th>\n",
       "      <td>96744-75-1</td>\n",
       "      <td>6</td>\n",
       "      <td>Other_U-Series</td>\n",
       "      <td>U-69593</td>\n",
       "      <td>U69593</td>\n",
       "    </tr>\n",
       "    <tr>\n",
       "      <th>1155</th>\n",
       "      <td>96744-75-1</td>\n",
       "      <td>6</td>\n",
       "      <td>Other_U-Series</td>\n",
       "      <td>U-69593</td>\n",
       "      <td>1-Oxaspiro[4.5]decane, benzeneacetamide deriv.</td>\n",
       "    </tr>\n",
       "    <tr>\n",
       "      <th>1912</th>\n",
       "      <td>71195-58-9</td>\n",
       "      <td>9</td>\n",
       "      <td>Common_Analogues</td>\n",
       "      <td>Alfentanyl</td>\n",
       "      <td>N-[1-[2-(4-ethyl-5-oxotetrazol-1-yl)ethyl]-4-(...</td>\n",
       "    </tr>\n",
       "    <tr>\n",
       "      <th>1938</th>\n",
       "      <td>71195-58-9</td>\n",
       "      <td>9</td>\n",
       "      <td>Common_Analogues</td>\n",
       "      <td>Alfentanyl</td>\n",
       "      <td>hydrochloride</td>\n",
       "    </tr>\n",
       "    <tr>\n",
       "      <th>...</th>\n",
       "      <td>...</td>\n",
       "      <td>...</td>\n",
       "      <td>...</td>\n",
       "      <td>...</td>\n",
       "      <td>...</td>\n",
       "    </tr>\n",
       "    <tr>\n",
       "      <th>3782</th>\n",
       "      <td>864445-54-5</td>\n",
       "      <td>4</td>\n",
       "      <td>Synthetic_Cannabinoids</td>\n",
       "      <td>JWH-203</td>\n",
       "      <td>JWH-203</td>\n",
       "    </tr>\n",
       "    <tr>\n",
       "      <th>3886</th>\n",
       "      <td>131543-23-2</td>\n",
       "      <td>4</td>\n",
       "      <td>Synthetic_Cannabinoids</td>\n",
       "      <td>WIN 55,212-2</td>\n",
       "      <td>methanesulfonic acid</td>\n",
       "    </tr>\n",
       "    <tr>\n",
       "      <th>3991</th>\n",
       "      <td>1199943-44-6</td>\n",
       "      <td>4</td>\n",
       "      <td>Synthetic_Cannabinoids</td>\n",
       "      <td>UR-144</td>\n",
       "      <td>UR-144</td>\n",
       "    </tr>\n",
       "    <tr>\n",
       "      <th>4016</th>\n",
       "      <td>1199943-44-6</td>\n",
       "      <td>4</td>\n",
       "      <td>Synthetic_Cannabinoids</td>\n",
       "      <td>UR-144</td>\n",
       "      <td>UR-144 ((1-Pentylindol-3-yl)(2,2,3,3-tetrameth...</td>\n",
       "    </tr>\n",
       "    <tr>\n",
       "      <th>4036</th>\n",
       "      <td>1364933-54-9</td>\n",
       "      <td>4</td>\n",
       "      <td>Synthetic_Cannabinoids</td>\n",
       "      <td>XLR-11</td>\n",
       "      <td>XLR-11</td>\n",
       "    </tr>\n",
       "  </tbody>\n",
       "</table>\n",
       "<p>70 rows × 5 columns</p>\n",
       "</div>"
      ],
      "text/plain": [
       "     CAS_Registry_Number  Weight                Category  \\\n",
       "1097          87151-85-7      10          Other_U-Series   \n",
       "1153          96744-75-1       6          Other_U-Series   \n",
       "1155          96744-75-1       6          Other_U-Series   \n",
       "1912          71195-58-9       9        Common_Analogues   \n",
       "1938          71195-58-9       9        Common_Analogues   \n",
       "...                  ...     ...                     ...   \n",
       "3782         864445-54-5       4  Synthetic_Cannabinoids   \n",
       "3886         131543-23-2       4  Synthetic_Cannabinoids   \n",
       "3991        1199943-44-6       4  Synthetic_Cannabinoids   \n",
       "4016        1199943-44-6       4  Synthetic_Cannabinoids   \n",
       "4036        1364933-54-9       4  Synthetic_Cannabinoids   \n",
       "\n",
       "                   Substance  \\\n",
       "1097  U-62066 (Spiradoline)    \n",
       "1153                U-69593    \n",
       "1155                U-69593    \n",
       "1912              Alfentanyl   \n",
       "1938              Alfentanyl   \n",
       "...                      ...   \n",
       "3782                 JWH-203   \n",
       "3886           WIN 55,212-2    \n",
       "3991                  UR-144   \n",
       "4016                  UR-144   \n",
       "4036                  XLR-11   \n",
       "\n",
       "                                               Synonyms  \n",
       "1097                               methanesulfonic acid  \n",
       "1153                                             U69593  \n",
       "1155     1-Oxaspiro[4.5]decane, benzeneacetamide deriv.  \n",
       "1912  N-[1-[2-(4-ethyl-5-oxotetrazol-1-yl)ethyl]-4-(...  \n",
       "1938                                      hydrochloride  \n",
       "...                                                 ...  \n",
       "3782                                            JWH-203  \n",
       "3886                               methanesulfonic acid  \n",
       "3991                                             UR-144  \n",
       "4016  UR-144 ((1-Pentylindol-3-yl)(2,2,3,3-tetrameth...  \n",
       "4036                                             XLR-11  \n",
       "\n",
       "[70 rows x 5 columns]"
      ]
     },
     "execution_count": 42,
     "metadata": {},
     "output_type": "execute_result"
    }
   ],
   "source": [
    "duplicate_rows = df[df.duplicated()]\n",
    "\n",
    "duplicate_rows.count()\n",
    "print(\"Duplicate Rows: \")\n",
    "duplicate_rows"
   ]
  },
  {
   "cell_type": "code",
   "execution_count": 43,
   "id": "f4e16df0-27e4-459d-b3fa-a62446d13c49",
   "metadata": {},
   "outputs": [
    {
     "name": "stdout",
     "output_type": "stream",
     "text": [
      "min weight: 4, max weight: 10\n"
     ]
    }
   ],
   "source": [
    "weight_min = df[\"Weight\"].min()\n",
    "weight_max = df[\"Weight\"].max()\n",
    "\n",
    "print(f\"min weight: {weight_min}, max weight: {weight_max}\")"
   ]
  },
  {
   "cell_type": "code",
   "execution_count": null,
   "id": "da67cd71",
   "metadata": {},
   "outputs": [],
   "source": []
  }
 ],
 "metadata": {
  "kernelspec": {
   "display_name": "base",
   "language": "python",
   "name": "python3"
  },
  "language_info": {
   "codemirror_mode": {
    "name": "ipython",
    "version": 3
   },
   "file_extension": ".py",
   "mimetype": "text/x-python",
   "name": "python",
   "nbconvert_exporter": "python",
   "pygments_lexer": "ipython3",
   "version": "3.11.5"
  }
 },
 "nbformat": 4,
 "nbformat_minor": 5
}
